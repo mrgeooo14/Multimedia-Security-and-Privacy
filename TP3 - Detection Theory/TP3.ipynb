{
 "cells": [
  {
   "cell_type": "markdown",
   "metadata": {},
   "source": [
    "# Multimedia Security and Privacy\n",
    "## TP3 - Detection Theory\n",
    "### Genis Skura\n",
    "#### 1. Elements of Detection Theory"
   ]
  },
  {
   "cell_type": "code",
   "execution_count": 7,
   "metadata": {},
   "outputs": [],
   "source": [
    "from scipy.stats import norm\n",
    "# print('eyyyy')\n",
    "# print(norm.sf(10, loc = 0, scale = 26.18))"
   ]
  },
  {
   "cell_type": "markdown",
   "metadata": {},
   "source": [
    "##### Exercise 1\n",
    "The following calculations were made given the two distributions $X \\sim N(0, 1)$ and $Y \\sim N(0, 3)$:"
   ]
  },
  {
   "cell_type": "markdown",
   "metadata": {},
   "source": [
    "\\begin{split}\n",
    "P[-2 < Y \\le 1] = P[\\frac{-2 - 0}{3} < Y \\le \\frac{1 - 0}{3}]  = P[-\\frac{2}{3} < Y \\le \\frac{1}{3}] \\\\\n",
    "\\phi(\\frac{b - \\mu}{\\sigma}) - \\phi(\\frac{a - \\mu}{\\sigma}) = \\phi(\\frac{1}{3}) - \\phi(-\\frac{2}{3}) = \\phi(\\frac{1}{3}) - (1 - \\phi(\\frac{2}{3}))\\\\\n",
    "= 0.631 - (1 - 0.748)\\\\\n",
    "= 0.631 - 0.252\\\\\n",
    "= 0.379\\\\\n",
    "\\end{split}\n",
    "\n",
    "$$\\:$$\n",
    "\n",
    "\\begin{split}\n",
    "P[Y > 5.5] = 1 - F_y(5.5) \\\\\n",
    "= 1 - \\phi(\\frac{y - \\mu}{\\sigma}) = 1 - \\phi(\\frac{5.5 - 0}{3}) \\\\\n",
    "= 1 - 0.967 \\\\\n",
    "= 0.033\n",
    "\\end{split}\n",
    "\n",
    "$$\\:$$\n",
    "\n",
    "\\begin{split}\n",
    "P[-2 < X \\le 2] = P[\\frac{-2 - 0}{1} < X \\le \\frac{2 - 0}{1}]  = P[-2 < X \\le 2] \\\\\n",
    "\\phi(\\frac{b - \\mu}{\\sigma}) - \\phi(\\frac{a - \\mu}{\\sigma}) = \\phi(2) - \\phi(-2) = \\phi(2) - (1 - \\phi(2)) = 2\\phi(2) - 1 = \\\\\n",
    "= 1.954 - 1\\\\\n",
    "= 0.954\n",
    "\\end{split}\n",
    "\n",
    "$$\\:$$\n",
    "\n",
    "\\begin{split}\n",
    "P[X > 1.5] = 1 - F_x(1.5) \\\\\n",
    "= 1 - \\phi(\\frac{x - \\mu}{\\sigma}) = 1 - \\phi(\\frac{1.5 - 0}{1}) \\\\\n",
    "= 1 - 0.933 \\\\\n",
    "= 0.067\n",
    "\\end{split}\n"
   ]
  },
  {
   "cell_type": "markdown",
   "metadata": {},
   "source": [
    "##### Exercise 2\n",
    "We let X be the peak temperature in Geneva in June for which $X \\sim N(27, 9)$ and the following calculations are made:"
   ]
  },
  {
   "cell_type": "markdown",
   "metadata": {},
   "source": [
    "\\begin{split}\n",
    "P[X > 35] = 1 - F_x(35) \\\\\n",
    "= 1 - \\phi(\\frac{x - \\mu}{\\sigma}) = 1 - \\phi(\\frac{35 - 27}{9}) \\\\\n",
    "= 1 - \\phi(\\frac{8}{9})\n",
    "= 1 - 0.813 \\\\\n",
    "= 0.187\n",
    "\\end{split}\n",
    "\n",
    "$$\\:$$\n",
    "\n",
    "\\begin{split}\n",
    "P[X \\leq 5] = F_x(5) \\\\\n",
    "= \\phi(\\frac{x - \\mu}{\\sigma}) = \\phi(\\frac{5 - 27}{9}) \\\\\n",
    "= \\phi(-\\frac{22}{9}) = 1 - \\phi(\\frac{22}{9})\n",
    "= 1 - 0.993 \\\\\n",
    "= 0.007\n",
    "\\end{split}\n",
    "\n",
    "$$\\:$$\n",
    "\n",
    "\\begin{split}\n",
    "P[20 < X \\le 40] = P[\\frac{20 - 27}{9} < X \\le \\frac{40 - 27}{9}]  = P[-\\frac{7}{9} < X \\le \\frac{13}{9}] \\\\\n",
    "\\phi(\\frac{b - \\mu}{\\sigma}) - \\phi(\\frac{a - \\mu}{\\sigma}) = \\phi(\\frac{13}{9}) - \\phi(-\\frac{7}{9}) = \\phi(\\frac{13}{9}) - (1 - \\phi(\\frac{7}{9})) = 0.926 - (1 - 0.782) = \\\\\n",
    "= 0.926 - 0.218\\\\\n",
    "= 0.708\n",
    "\\end{split}"
   ]
  },
  {
   "cell_type": "markdown",
   "metadata": {},
   "source": [
    "##### Exercise 3\n",
    "We let X be a Gaussian random variable with expectation $E[X] = 0$ and $P[|X| \\leq 10] = 0.3$. The unknown $\\sigma_x$ was found as follows: "
   ]
  },
  {
   "cell_type": "markdown",
   "metadata": {},
   "source": [
    "Given that we know the mean $\\mu = E[X] = 0$, we could write $P[x \\leq 10]$ in relation to $F_x$ or as $P[-10 < X \\leq 10]$, all equal to 0.3.\n",
    "\n",
    "Having chosen last one, it could be rewritten including our unknown parameter such as: $P[\\frac{-10}{\\sigma_x} < X \\leq \\frac{10}{\\sigma_x}] = 0.3$ again.\n",
    "\n",
    "Such as just like the examples above, the equation could be represented as $\\phi(\\frac{b - \\mu}{\\sigma_x}) - \\phi(\\frac{a - \\mu}{\\sigma_x}) = \\phi(\\frac{10 - 0}{\\sigma_x}) - \\phi(-\\frac{10 - 0}{\\sigma_x}) = \\phi(\\frac{10}{\\sigma_x}) - (1 - \\phi(\\frac{10}{\\sigma_x})) = 2\\phi(\\frac{10}{\\sigma_x}) - 1 = 0.3$\n",
    "\n",
    "And from that, the inverse cdf function as: $\\phi(-\\frac{10}{\\sigma_x}) = \\frac{1 - 0.3}{2}$ and $\\sigma_x$ as $\\sigma_x = -\\frac{10}{\\phi^{-1}(0.35)}$\n",
    "\n",
    "Finally, $\\phi^{-1}$ can be computed using the inverse function from scipy.stats.norm.ppf() which leads to a $\\sigma_x \\sim 26$  "
   ]
  },
  {
   "cell_type": "code",
   "execution_count": 8,
   "metadata": {},
   "outputs": [
    {
     "name": "stdout",
     "output_type": "stream",
     "text": [
      "25.95242368834525\n"
     ]
    }
   ],
   "source": [
    "print(-10 / norm.ppf(0.35))"
   ]
  },
  {
   "cell_type": "markdown",
   "metadata": {},
   "source": [
    "##### Exercise 4\n",
    "Given two functions, the first one being the Q-function $Q(n) = \\frac{1}{\\sqrt{2\\pi}} \\int_{n}^{\\infty} e^{-\\frac{u^{2}}{2}} \\; du $ and the other one being the *complementary error function (ERFC)*: *erfc*$(n) = \\frac{2}{\\sqrt{\\pi}} \\int_n^{\\infty}e^{-x^2}dx$\n",
    "\n",
    "Proving that: $Q(n) = \\frac{1}{2}$*erfc*$(\\frac{n}{\\sqrt{2}})$ using integral substitution:"
   ]
  },
  {
   "cell_type": "markdown",
   "metadata": {},
   "source": [
    "We start by defining $z = \\frac{u}{\\sqrt{2}}$ and $dz = \\frac{dx}{\\sqrt{2}}$\n",
    "\n",
    "And then we substitute it on the *Q* function to get:\n",
    "\n",
    "$Q(n) = \\frac{1}{\\sqrt{2n}} \\sqrt{2} \\int_{n}^{\\infty} e^{-\\frac{(\\sqrt{2}z)^{2}}{2}} \\; dz$\n",
    "\n",
    "Thus finally, \n",
    "\n",
    "$Q(n) = \\frac{1}{\\sqrt{n}} \\int_{n}^{\\infty} e^{-z^{2}} \\; dz = \\frac{1}{2} erfc(n)$"
   ]
  },
  {
   "cell_type": "markdown",
   "metadata": {},
   "source": [
    "#### 2. Bayesian Two-Class Classification - Neyman-Pearson Test"
   ]
  },
  {
   "cell_type": "markdown",
   "metadata": {},
   "source": [
    "##### Exercise 5 \n",
    "Given our two hypotheses $H_0$ and $H_1$ such as:\n",
    "\n",
    "$H_0: Z$ and $H_1 : \\mu_1 + Z$ where $Z \\sim N(0, 1)$ and $\\mu_1 = 1$"
   ]
  },
  {
   "cell_type": "markdown",
   "metadata": {},
   "source": [
    "From the information above we can derive the following likelihood functions:\n",
    "\n",
    "$f_{X|H_0}=\\frac{1}{\\sqrt{2\\pi}}e^{-\\frac{x^2}{2}}$ and $f_{X|H_1}=\\frac{1}{\\sqrt{2\\pi}}e^{-\\frac{(x-\\mu_1)^2}{2}}$\n",
    "\n",
    "With $\\sigma = 1$ hence removed from the denominator.\n",
    "\n",
    "To determine the probability of correct detection $p_d = 1 - p_m$ therefore knowing the formula for $p_m = P[A_0 | H_1]$. Specifically, the decision criteria for set $A_0$, it being the likelihood ratio test: $A_0 : \\frac{f_{X|H_0}}{f_{X|H_1}}>\\frac{P[H_1]}{P[H_0]}$ \n",
    "\n",
    "Since $P[H_0]$ and $P[H_1]$ are opposites, we can reformulate $\\frac{P[H_1]}{P[H_0]}$ as $\\frac{1 - p}{p}$, $p = P[H_0]$\n",
    "\n",
    "Thus by also substituting $f_{X|H_0}$ and $f_{X|H_1}$:\n",
    "\n",
    "$\\frac{e^{-\\frac{x^2}{2}}}{e^{-\\frac{(x-\\mu_1)^2}{2}}}>\\frac{1-p}{p}$\n",
    "\n",
    "$\\ln(\\frac{e^{-\\frac{x^2}{2}}}{e^{-\\frac{(x-\\mu_1)^2}{2}}})>\\ln(\\frac{1-p}{p})$\n",
    "\n",
    "$\\frac{-2x\\mu_1+\\mu_1^2}{2}>\\ln(\\frac{1-p}{p})$\n",
    "\n",
    "$-2x\\mu_1+\\mu_1^2>2\\ln(\\frac{1-p}{p})$\n",
    "\n",
    "$-2x\\mu_1>2\\ln(\\frac{1-p}{p}) - \\mu_1^2$\n",
    "\n",
    "$-x > \\frac{2\\ln(\\frac{1-p}{p})}{2\\mu_1} - \\frac{\\mu_1^2}{2\\mu_1}$\n",
    "\n",
    "$-x > \\frac{1}{\\mu_1}\\ln(\\frac{1-p}{p}) - \\frac{\\mu_1}{2}$\n",
    "\n",
    "$x < \\frac{\\mu_1}{2} - \\frac{1}{\\mu_1}\\ln(\\frac{1-p}{p})$\n",
    "\n",
    "Now we can represent that as the chosen threshold $\\tau$,\n",
    "\n",
    "$\\tau = \\frac{\\mu_1}{2} - \\frac{1}{\\mu_1}\\ln(\\frac{1-p}{p})$\n",
    "\n",
    "In our example $\\mu_1 = 1$ hence, \n",
    "\n",
    "$\\tau = \\frac{1}{2} - \\ln(\\frac{1-p}{p})$\n",
    "\n",
    "To find $p_d = 1 - p_m$ we need to write $p_m$ as:\n",
    "\n",
    "$p_m = P[A_0 | H_1] = P[X \\le \\tau | H_1] = \\phi(\\tau - \\mu_1)$\n",
    "\n",
    "Finally,\n",
    "\n",
    "$p_d = 1 - \\phi(\\tau - \\mu_1) = 1 - \\phi(\\frac{1}{2} - \\ln(\\frac{1-p}{p}) - 1) = 1 - \\phi(-\\ln(\\frac{1-p}{p}) - \\frac{1}{2})$, with $\\mu_1 = 1$\n",
    "\n",
    "Rewriting it in relation to the standard normal complementary CDF (*Q* function at **Definition 1.3**):\n",
    "\n",
    "$p_d = Q(-\\ln(\\frac{1-p}{p}) - \\frac{1}{2})$, with $\\mu_1 = 1$"
   ]
  },
  {
   "cell_type": "markdown",
   "metadata": {},
   "source": [
    "##### Exercise 6\n",
    "\n",
    "The parameters were the same as the previous exercise except for different $\\mu_1 = \\{0, 1, 2\\}$\n",
    "\n",
    "With the question of deriving the general formulas for the Probability of Miss $p_m$, the Probability of Correct Detection $p_d$ and the Probability of False Alarm $p_f$ in addition to visualizing the ROC curves for the given $\\mu_1$"
   ]
  },
  {
   "cell_type": "markdown",
   "metadata": {},
   "source": [
    "Using the knowledge we gained from the exercise above, we have:\n",
    "\n",
    "$\\tau = \\frac{\\mu_1}{2} - \\frac{1}{\\mu_1}\\ln(\\frac{1-p}{p})$\n",
    "\n",
    "$p_m = \\phi(\\tau - \\mu_1) = \\phi(\\frac{\\mu_1}{2} - \\frac{1}{\\mu_1}\\ln(\\frac{1-p}{p}) - \\mu_1) = \\phi(-\\frac{\\mu_1}{2} - \\frac{1}{\\mu_1}\\ln(\\frac{1-p}{p}))$\n",
    "\n",
    "$p_d = 1 - p_m = 1 - \\phi(-\\frac{\\mu_1}{2} - \\frac{1}{\\mu_1}\\ln(\\frac{1-p}{p})) = Q(-\\frac{\\mu_1}{2} - \\frac{1}{\\mu_1}\\ln(\\frac{1-p}{p}))$\n",
    "\n",
    "While for the Probability of False Alarm $p_f$ we represent it as the relation seen at **(56)**:\n",
    "\n",
    "$p_f = Q(\\tau) = Q(\\frac{\\mu_1}{2} - \\frac{1}{\\mu_1}\\ln(\\frac{1-p}{p}))$\n",
    "\n",
    "Having represented the probabilities, we could visualize the ROC curves in $Python$."
   ]
  },
  {
   "cell_type": "code",
   "execution_count": 34,
   "metadata": {},
   "outputs": [
    {
     "data": {
      "image/png": "[encoded data removed]",
      "text/plain": [
       "<Figure size 432x288 with 1 Axes>"
      ]
     },
     "metadata": {},
     "output_type": "display_data"
    }
   ],
   "source": [
    "import numpy as np\n",
    "import matplotlib.pyplot as plt\n",
    "import seaborn as sns\n",
    "sns.set()\n",
    "\n",
    "mu = [0, 1, 2] # our means\n",
    "tau_min, tau_max = -5, 5 # the min and max interval between thresholds\n",
    "tau = np.linspace(tau_min, tau_max, int((tau_max - tau_min) / 0.1)) # calculate it for every threshold level\n",
    " \n",
    "# Functions representing the formulas derived above\n",
    "def p_m(tau, mu):\n",
    "    return norm.cdf(tau - mu)\n",
    "\n",
    "def p_f(tau):\n",
    "    return norm.sf(tau)\n",
    "\n",
    "# Plotting the results in relation to the threshold\n",
    "plt.figure()\n",
    "plt.plot(tau, [p_f(t) for t in tau], label = r\"$p_f$\", color = plt.cm.Accent(2))\n",
    "for i in range(len(mu)):\n",
    "    plt.plot(tau, [p_m(t, mu[i]) for t in tau], color = plt.cm.Accent(i + 3),label = r\"$p_m$, $\\mu_{1}$ = %s\"%mu[i])\n",
    "plt.legend()\n",
    "plt.xlabel(\"Threshold\" + r\" $\\tau$\")\n",
    "plt.ylabel(\"Probabilities\")\n",
    "plt.show()"
   ]
  },
  {
   "cell_type": "markdown",
   "metadata": {},
   "source": [
    "Based on the formulas of probabilities we derived on the cell above, we compute them on the different values of the threshold intervals in addition to the different means $\\mu_1$. We can observe from the graph the optimal threshold value $\\tau \\sim 1$ which gives the optimal combination of the probabilities of miss and false acceptance: $p_m$ and $p_f$ with a mean value $\\mu_1 = 2$ (the cross between purple and orange).  \n",
    "\n",
    "Below we can compare the misses and false acceptances to visualize the ROC curves and how the means impact them. We know the $p_f = Q(\\tau)$, $\\tau = Q^{-1}(p_f)$, and $p_m = Q(\\tau - \\mu_1)$"
   ]
  },
  {
   "cell_type": "code",
   "execution_count": 56,
   "metadata": {},
   "outputs": [
    {
     "data": {
      "image/png": "[encoded data removed]",
      "text/plain": [
       "<Figure size 432x288 with 1 Axes>"
      ]
     },
     "metadata": {},
     "output_type": "display_data"
    }
   ],
   "source": [
    "probas = np.linspace(0,1,70) ## probabilities of false acceptance samples, the more the smoother the curve\n",
    "\n",
    "plt.figure()\n",
    "plt.title('ROC Graph')\n",
    "plt.xlabel(r\"$p_f$\")\n",
    "plt.ylabel(r\"$p_m$\")\n",
    "for i in range(len(mu)):\n",
    "    plt.plot(probas, [p_m(norm.isf(p), mu[i]) for p in probas], \n",
    "             label=r\"$\\mu_1$ = %s\"%mu[i], color = plt.cm.Accent(i + 3)\n",
    "            )\n",
    "plt.legend()\n",
    "plt.show()"
   ]
  },
  {
   "cell_type": "markdown",
   "metadata": {},
   "source": [
    "As we can see from the graph above, a $\\mu_1 = 0$ which stands on the diagonal produces a purely random classifier which is not good news. With the increase of the mean $\\mu_1$ we can observe an increase in the accuracy of detection."
   ]
  },
  {
   "cell_type": "markdown",
   "metadata": {},
   "source": [
    "##### Exercise 7\n",
    "\n",
    "From a binary communication system that transmits a signal $X$ which follows the *Bernoulli* distribution with p = 0.5, we have a receiver that observes $Y = VX + W$\n",
    "\n",
    "We will formulate the hypothesises, determine the likelihood ratio test and the $p_{err}$"
   ]
  },
  {
   "cell_type": "markdown",
   "metadata": {},
   "source": [
    "Based on the outputs of the receiver that we want to observe $Y$, we can formulate the two hypothesises $H_0 : Y = W$ and $H_1 : Y =  W + V$\n",
    "\n",
    "Hence,\n",
    "\n",
    "$f_{y | H_0} = e^{-y}$ if $y \\geq 0$, $0$ otherwise\n",
    "\n",
    "$f_{y | H_1} = ye^{-y}$ if $y \\geq 0$, $0$ otherwise (Erlang's PDF $\\lambda = 1$, Definition **3.1**)\n",
    "\n",
    "So, our MAP hypothesis test (decision rule for $A_0$) becomes:\n",
    "\n",
    "$\\frac{f_{Y | H_0}(y)}{f_{Y | H_1}(y)} \\geq \\frac{P[H_1]}{P[H_0]}$\n",
    "\n",
    "In our example $P[H_0] = P[H_1] = 0.5 \\Rightarrow \\frac{P[H_0]}{P[H_1]} = 1$, so we start substracting,\n",
    "\n",
    "$\\frac{f_{Y | H_0}(y)}{f_{Y | H_1}(y)} \\geq 1$\n",
    "\n",
    "$\\frac{e^{-y}}{ye^{-y}} \\geq 1$\n",
    "\n",
    "$ln(\\frac{e^{-y}}{ye^{-y}}) \\geq ln(1)$\n",
    "\n",
    "$ln(e^{-y}) - ln(ye^{-y}) \\geq 0$\n",
    "\n",
    "$-y - ln(y) + y \\geq 0$\n",
    "\n",
    "$-ln(y) \\geq 0$\n",
    "\n",
    "$ln(y) \\leq 0$\n",
    "\n",
    "$y \\leq 1$\n",
    "\n",
    "We've found our separation threshold $\\tau = 1$\n",
    "\n",
    "Therefore, we could move to computing the total probability of error of our binary hypothesis $p_{err}$\n",
    "\n",
    "$p_{err} = P(A_1 | H_0) P(H_0) + P(A_0 | H_1) P(H_1)$\n",
    "\n",
    "$p_{err} = \\frac{1}{2}P(A_1 | H_0) + \\frac{1}{2} P(A_0 | H_1)$ \n",
    "\n",
    "We know that $P(A_1 | H_0) = p_f$ is the probability of false alarm and $P(A_0 | H_1) = p_m$ the probability of miss. We could compute them based on equations **(25)** and **(26)**.\n",
    "\n",
    "$p_m = \\int_{1}^{\\infty} e^{-y} dy = \\frac{1}{e}$\n",
    "\n",
    "$p_f = \\int_{0}^{1} ye^{-y} dy = 1 - 2e^{-1} = 1 - \\frac{1}{2e}$\n",
    "\n",
    "Finally,\n",
    "\n",
    "$p_{err} = \\frac{1}{2} p_f + \\frac{1}{2} p_m = \\frac{1}{2} (1 - \\frac{1}{2e}) + \\frac{1}{2} (\\frac{1}{e}) = \\frac{1}{2} - \\frac{1}{2e} = \\frac{1}{2}(1 - \\frac{1}{e})$"
   ]
  }
 ],
 "metadata": {
  "interpreter": {
   "hash": "cb7c437d387e926589d838bd9a81eafaaf49797dc1a6d9a0b90189d1e9338563"
  },
  "kernelspec": {
   "display_name": "Python 3.9.7 64-bit",
   "language": "python",
   "name": "python3"
  },
  "language_info": {
   "codemirror_mode": {
    "name": "ipython",
    "version": 3
   },
   "file_extension": ".py",
   "mimetype": "text/x-python",
   "name": "python",
   "nbconvert_exporter": "python",
   "pygments_lexer": "ipython3",
   "version": "3.9.7"
  },
  "orig_nbformat": 4
 },
 "nbformat": 4,
 "nbformat_minor": 2
}
